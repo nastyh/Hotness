{
 "cells": [
  {
   "cell_type": "markdown",
   "metadata": {},
   "source": [
    "## Loading"
   ]
  },
  {
   "cell_type": "code",
   "execution_count": 1,
   "metadata": {},
   "outputs": [],
   "source": [
    "# import sys\n",
    "# !pip --proxy http://httpproxy.vip.ebay.com:80 install seaborn --user\n",
    "# !pip --proxy http://httpproxy.vip.ebay.com:80 install --upgrade pip --user"
   ]
  },
  {
   "cell_type": "code",
   "execution_count": 25,
   "metadata": {},
   "outputs": [],
   "source": [
    "import os\n",
    "import pandas as pd\n",
    "import numpy as np\n",
    "# import dask\n",
    "# import dask.dataframe as dd\n",
    "import matplotlib\n",
    "import matplotlib.pyplot as plt\n",
    "import seaborn as sns\n",
    "from scipy.stats import norm\n",
    "import scipy.stats as st\n",
    "from sklearn.pipeline import Pipeline, FeatureUnion\n",
    "from sklearn.preprocessing import OneHotEncoder\n",
    "from sklearn.impute import SimpleImputer\n",
    "from sklearn.preprocessing import StandardScaler, FunctionTransformer, MinMaxScaler\n",
    "from sklearn.compose import ColumnTransformer\n",
    "from sklearn.ensemble import RandomForestRegressor, RandomForestClassifier\n",
    "from sklearn.model_selection import train_test_split, GridSearchCV, cross_val_score\n",
    "from sklearn.metrics import accuracy_score, f1_score, roc_auc_score, plot_roc_curve\n",
    "import pickle\n",
    "%matplotlib inline\n",
    "\n",
    "# os.environ"
   ]
  },
  {
   "cell_type": "code",
   "execution_count": 3,
   "metadata": {},
   "outputs": [],
   "source": [
    "# df = pd.read_csv(os.environ.get('KRYLOV_DATA_DIR') + \"/\" + os.environ.get('KRYLOV_PRINCIPAL') + \"/\" + \"9_23_hotness_01_percent.csv\")\n",
    "df = pd.read_csv('/home/mkareev/9_23_hotness_01_percent.csv')"
   ]
  },
  {
   "cell_type": "code",
   "execution_count": 4,
   "metadata": {},
   "outputs": [
    {
     "data": {
      "text/html": [
       "<div>\n",
       "<style scoped>\n",
       "    .dataframe tbody tr th:only-of-type {\n",
       "        vertical-align: middle;\n",
       "    }\n",
       "\n",
       "    .dataframe tbody tr th {\n",
       "        vertical-align: top;\n",
       "    }\n",
       "\n",
       "    .dataframe thead th {\n",
       "        text-align: right;\n",
       "    }\n",
       "</style>\n",
       "<table border=\"1\" class=\"dataframe\">\n",
       "  <thead>\n",
       "    <tr style=\"text-align: right;\">\n",
       "      <th></th>\n",
       "      <th>GUID</th>\n",
       "      <th>SESSION_SKEY</th>\n",
       "      <th>SITE_ID</th>\n",
       "      <th>SESSION_START_DT</th>\n",
       "      <th>ITEM_ID</th>\n",
       "      <th>MIN_SEQNUM</th>\n",
       "      <th>MIN_EVENT_TIMESTAMP</th>\n",
       "      <th>USER_ID</th>\n",
       "      <th>PLATFORM</th>\n",
       "      <th>asp_usd</th>\n",
       "      <th>...</th>\n",
       "      <th>CATEG_GMB_P1D_BEFORE_VI</th>\n",
       "      <th>TTL_BI_P1D_BEFORE_VI</th>\n",
       "      <th>TTL_GMB_P1D_BEFORE_VI</th>\n",
       "      <th>ITEM_BI_SHARE_IN_CATEG_P1D_BEFORE_VI</th>\n",
       "      <th>ITEM_GMB_SHARE_IN_CATEG_P1D_BEFORE_VI</th>\n",
       "      <th>CATEG_BI_SHARE_IN_TTL_P1D_BEFORE_VI</th>\n",
       "      <th>CATEG_GMB_SHARE_IN_TTL_P1D_BEFORE_VI</th>\n",
       "      <th>BI_INVERSE_FREQUENCY_SCORE</th>\n",
       "      <th>GMB_INVERSE_FREQUENCY_SCORE</th>\n",
       "      <th>rnk</th>\n",
       "    </tr>\n",
       "  </thead>\n",
       "  <tbody>\n",
       "    <tr>\n",
       "      <th>0</th>\n",
       "      <td>9937d3881710a6e6f02cd2e4ff7ad788</td>\n",
       "      <td>38051181213890</td>\n",
       "      <td>3</td>\n",
       "      <td>2020-07-30</td>\n",
       "      <td>131157708197</td>\n",
       "      <td>43</td>\n",
       "      <td>2020-07-30 17:15:51</td>\n",
       "      <td>0</td>\n",
       "      <td>Browser: mWeb</td>\n",
       "      <td>5.0</td>\n",
       "      <td>...</td>\n",
       "      <td>1.538424e+05</td>\n",
       "      <td>6525144</td>\n",
       "      <td>2.188364e+08</td>\n",
       "      <td>0.00017</td>\n",
       "      <td>0.000218</td>\n",
       "      <td>0.001804</td>\n",
       "      <td>0.000703</td>\n",
       "      <td>0.001074</td>\n",
       "      <td>0.001582</td>\n",
       "      <td>0.006</td>\n",
       "    </tr>\n",
       "    <tr>\n",
       "      <th>1</th>\n",
       "      <td>d4f39376166e79924e73a830012f8ea5</td>\n",
       "      <td>38055995449570</td>\n",
       "      <td>0</td>\n",
       "      <td>2020-08-05</td>\n",
       "      <td>313166484131</td>\n",
       "      <td>608</td>\n",
       "      <td>2020-08-05 07:18:45</td>\n",
       "      <td>1840615439</td>\n",
       "      <td>Apps: iPhone</td>\n",
       "      <td>60.0</td>\n",
       "      <td>...</td>\n",
       "      <td>4.122317e+05</td>\n",
       "      <td>6624528</td>\n",
       "      <td>2.202547e+08</td>\n",
       "      <td>NaN</td>\n",
       "      <td>NaN</td>\n",
       "      <td>0.001694</td>\n",
       "      <td>0.001872</td>\n",
       "      <td>NaN</td>\n",
       "      <td>NaN</td>\n",
       "      <td>0.006</td>\n",
       "    </tr>\n",
       "    <tr>\n",
       "      <th>2</th>\n",
       "      <td>ace49b041640a9c0b93ba28affff02e4</td>\n",
       "      <td>38047619149900</td>\n",
       "      <td>0</td>\n",
       "      <td>2020-07-26</td>\n",
       "      <td>402320794556</td>\n",
       "      <td>31</td>\n",
       "      <td>2020-07-26 14:20:40</td>\n",
       "      <td>0</td>\n",
       "      <td>Browser: Core site</td>\n",
       "      <td>503.0</td>\n",
       "      <td>...</td>\n",
       "      <td>1.881010e+07</td>\n",
       "      <td>6174417</td>\n",
       "      <td>1.871884e+08</td>\n",
       "      <td>NaN</td>\n",
       "      <td>NaN</td>\n",
       "      <td>0.048301</td>\n",
       "      <td>0.100488</td>\n",
       "      <td>NaN</td>\n",
       "      <td>NaN</td>\n",
       "      <td>0.006</td>\n",
       "    </tr>\n",
       "    <tr>\n",
       "      <th>3</th>\n",
       "      <td>8891830716d4b9474906df10011cd54d</td>\n",
       "      <td>38051590936770</td>\n",
       "      <td>3</td>\n",
       "      <td>2020-07-31</td>\n",
       "      <td>174370805761</td>\n",
       "      <td>2454</td>\n",
       "      <td>2020-07-31 06:52:23</td>\n",
       "      <td>1123359449</td>\n",
       "      <td>Apps: iPhone</td>\n",
       "      <td>46.0</td>\n",
       "      <td>...</td>\n",
       "      <td>1.332561e+06</td>\n",
       "      <td>6367867</td>\n",
       "      <td>2.133461e+08</td>\n",
       "      <td>NaN</td>\n",
       "      <td>NaN</td>\n",
       "      <td>0.021025</td>\n",
       "      <td>0.006246</td>\n",
       "      <td>NaN</td>\n",
       "      <td>NaN</td>\n",
       "      <td>0.006</td>\n",
       "    </tr>\n",
       "    <tr>\n",
       "      <th>4</th>\n",
       "      <td>963d16581730aad74a104d04ffa8f650</td>\n",
       "      <td>38049170526130</td>\n",
       "      <td>3</td>\n",
       "      <td>2020-07-28</td>\n",
       "      <td>301699730415</td>\n",
       "      <td>1</td>\n",
       "      <td>2020-07-28 09:24:12</td>\n",
       "      <td>0</td>\n",
       "      <td>Browser: Core site</td>\n",
       "      <td>18.0</td>\n",
       "      <td>...</td>\n",
       "      <td>8.696573e+04</td>\n",
       "      <td>7063671</td>\n",
       "      <td>2.377354e+08</td>\n",
       "      <td>NaN</td>\n",
       "      <td>NaN</td>\n",
       "      <td>0.000338</td>\n",
       "      <td>0.000366</td>\n",
       "      <td>NaN</td>\n",
       "      <td>NaN</td>\n",
       "      <td>0.006</td>\n",
       "    </tr>\n",
       "  </tbody>\n",
       "</table>\n",
       "<p>5 rows × 105 columns</p>\n",
       "</div>"
      ],
      "text/plain": [
       "                               GUID    SESSION_SKEY  SITE_ID SESSION_START_DT  \\\n",
       "0  9937d3881710a6e6f02cd2e4ff7ad788  38051181213890        3       2020-07-30   \n",
       "1  d4f39376166e79924e73a830012f8ea5  38055995449570        0       2020-08-05   \n",
       "2  ace49b041640a9c0b93ba28affff02e4  38047619149900        0       2020-07-26   \n",
       "3  8891830716d4b9474906df10011cd54d  38051590936770        3       2020-07-31   \n",
       "4  963d16581730aad74a104d04ffa8f650  38049170526130        3       2020-07-28   \n",
       "\n",
       "        ITEM_ID  MIN_SEQNUM  MIN_EVENT_TIMESTAMP     USER_ID  \\\n",
       "0  131157708197          43  2020-07-30 17:15:51           0   \n",
       "1  313166484131         608  2020-08-05 07:18:45  1840615439   \n",
       "2  402320794556          31  2020-07-26 14:20:40           0   \n",
       "3  174370805761        2454  2020-07-31 06:52:23  1123359449   \n",
       "4  301699730415           1  2020-07-28 09:24:12           0   \n",
       "\n",
       "             PLATFORM  asp_usd  ...  CATEG_GMB_P1D_BEFORE_VI  \\\n",
       "0       Browser: mWeb      5.0  ...             1.538424e+05   \n",
       "1        Apps: iPhone     60.0  ...             4.122317e+05   \n",
       "2  Browser: Core site    503.0  ...             1.881010e+07   \n",
       "3        Apps: iPhone     46.0  ...             1.332561e+06   \n",
       "4  Browser: Core site     18.0  ...             8.696573e+04   \n",
       "\n",
       "   TTL_BI_P1D_BEFORE_VI  TTL_GMB_P1D_BEFORE_VI  \\\n",
       "0               6525144           2.188364e+08   \n",
       "1               6624528           2.202547e+08   \n",
       "2               6174417           1.871884e+08   \n",
       "3               6367867           2.133461e+08   \n",
       "4               7063671           2.377354e+08   \n",
       "\n",
       "   ITEM_BI_SHARE_IN_CATEG_P1D_BEFORE_VI  \\\n",
       "0                               0.00017   \n",
       "1                                   NaN   \n",
       "2                                   NaN   \n",
       "3                                   NaN   \n",
       "4                                   NaN   \n",
       "\n",
       "   ITEM_GMB_SHARE_IN_CATEG_P1D_BEFORE_VI  CATEG_BI_SHARE_IN_TTL_P1D_BEFORE_VI  \\\n",
       "0                               0.000218                             0.001804   \n",
       "1                                    NaN                             0.001694   \n",
       "2                                    NaN                             0.048301   \n",
       "3                                    NaN                             0.021025   \n",
       "4                                    NaN                             0.000338   \n",
       "\n",
       "   CATEG_GMB_SHARE_IN_TTL_P1D_BEFORE_VI  BI_INVERSE_FREQUENCY_SCORE  \\\n",
       "0                              0.000703                    0.001074   \n",
       "1                              0.001872                         NaN   \n",
       "2                              0.100488                         NaN   \n",
       "3                              0.006246                         NaN   \n",
       "4                              0.000366                         NaN   \n",
       "\n",
       "   GMB_INVERSE_FREQUENCY_SCORE    rnk  \n",
       "0                     0.001582  0.006  \n",
       "1                          NaN  0.006  \n",
       "2                          NaN  0.006  \n",
       "3                          NaN  0.006  \n",
       "4                          NaN  0.006  \n",
       "\n",
       "[5 rows x 105 columns]"
      ]
     },
     "execution_count": 4,
     "metadata": {},
     "output_type": "execute_result"
    }
   ],
   "source": [
    "df.head()"
   ]
  },
  {
   "cell_type": "markdown",
   "metadata": {},
   "source": [
    "## Assessing the data"
   ]
  },
  {
   "cell_type": "code",
   "execution_count": 5,
   "metadata": {},
   "outputs": [],
   "source": [
    "# quickly filling out NaNs with zeroes, otherwise astype() won't work\n",
    "df = df.fillna(0)\n",
    "\n",
    "# dropping unused columns\n",
    "to_drop =['ITEM_ID', 'GUID','SESSION_SKEY','SITE_ID', 'MIN_SEQNUM', 'MIN_SEQNUM', 'USER_ID', 'SEQNUM_RANK', 'show_cnt', 'rnk', 'SELLER_ID',\\\n",
    "         'SESSION_START_DT', 'MIN_EVENT_TIMESTAMP', 'SESSION_MIN_TIMESTAMP',\\\n",
    "         'active_item_yn', 'AUCT_START_DT', 'BUYER_LAST_TRX_DT_BEFORE_VI']\n",
    "df = df.drop(columns = to_drop, axis = 1)\n",
    "\n",
    "# Changing columns' types to make the dataframe more performant\n",
    "# type_mapping = {'PLATFORM': 'category', 'stp_yn': 'int8', 'map_yn': 'int8', 'mdm_yn': 'int8', 'sme_type_dt': 'int8', 'vi_coupon_show': 'int8',\\\n",
    "#                'vp_yn': 'int8', 'return_accept_yn': 'int8', 'return_duration_in_vi': 'int8',\\\n",
    "#                'qty_available': 'int16', 'qty_sold': 'int16', 'show_view_1hr_cnt': 'int16', 'show_view_24hr_cnt': 'int16',\\\n",
    "#                'show_watch_1hr_cnt': 'int16', 'show_watch_24hr_cnt': 'int16','show_sld_1hr_cnt': 'int16', 'show_sld_24hr_cnt': 'int16',\\\n",
    "#                'show_last_item_cnt': 'int16', 'show_limited_time_cnt': 'int16', 'show_limited_qty_cnt': 'int16' ,\\\n",
    "#                'BIN_CNT': 'int16', 'BID_CNT': 'int16','OFFER_CNT': 'int16', 'WATCH_CNT': 'int16', 'ASQ_CNT': 'int16',\\\n",
    "#                'BBO_CNT': 'int16', 'BBOC_CNT': 'int16', 'CONV_YN': 'int8', 'MQ_YN': 'int8', 'FP_YN': 'int8', 'BO_YN': 'int8',\\\n",
    "#                'FREE_SHIPPING_YN': 'int8', 'ITEM_CONDITION': 'category', 'ITEM_CONDITION_DETAIL': 'category', 'META_CATEG_NAME': 'category',\\\n",
    "#                'CATEG_LVL2_NAME': 'category','VERTICAL': 'category', 'RETURN_ACCPT_YN_NEW': 'int8', 'RETURN_TYPE': 'category', 'PHOTO_CNT': 'int8',\\\n",
    "#                'AUCT_START_DT': 'datetime64[ns]', 'LIST_AGE_DAY': 'int16', 'BUYER_SEGMENT': 'category', 'BUYER_SEC_FROM_SESSION_START_TO_VI': 'int16' ,\\\n",
    "#                'BUYER_CNTRY': 'category', 'SITE_NAME': 'category', 'SELLER_SEGMENT': 'category', 'SELLER_ETRS_YN':'category',\\\n",
    "#                'SELLER_CNTRY': 'category','TRX_DOMESTIC_YN': 'category', 'SELLER_GREATER_CHINA_YN': 'category'}\n",
    "\n",
    "type_mapping = {'PLATFORM': 'category', 'stp_yn': 'int8', 'map_yn': 'int8', 'mdm_yn': 'int8', 'sme_type_dt': 'int8', 'vi_coupon_show': 'int8',\\\n",
    "               'vp_yn': 'int8', 'return_accept_yn': 'int8', 'return_duration_in_vi': 'int8',\\\n",
    "               'CONV_YN': 'int8', 'MQ_YN': 'int8', 'FP_YN': 'int8', 'BO_YN': 'int8',\\\n",
    "               'FREE_SHIPPING_YN': 'int8', 'ITEM_CONDITION': 'category', 'ITEM_CONDITION_DETAIL': 'category', 'META_CATEG_NAME': 'category',\\\n",
    "               'CATEG_LVL2_NAME': 'category','VERTICAL': 'category', 'RETURN_ACCPT_YN_NEW': 'int8', 'RETURN_TYPE': 'category', 'PHOTO_CNT': 'int8',\\\n",
    "               'BUYER_SEGMENT': 'category',\\\n",
    "               'BUYER_CNTRY': 'category', 'SITE_NAME': 'category', 'SELLER_SEGMENT': 'category', 'SELLER_ETRS_YN':'category',\\\n",
    "               'SELLER_CNTRY': 'category','TRX_DOMESTIC_YN': 'category', 'SELLER_GREATER_CHINA_YN': 'category'}\n",
    "\n",
    "df = df.astype(type_mapping)\n",
    "\n",
    "# have to keep float64 as it is, b/c otherwise np.log1p() refuses to work\n",
    "# float64 to float32\n",
    "# float64_vars = df.select_dtypes(include = 'float64').columns.to_list()\n",
    "# df[float64_vars] = df[float64_vars].astype('float32')"
   ]
  },
  {
   "cell_type": "code",
   "execution_count": 6,
   "metadata": {},
   "outputs": [],
   "source": [
    "# Pairwise correlations: takes time to run and not very informative given how many features are out there\n",
    "# corrmat = df.corr()\n",
    "# f, ax = plt.subplots(figsize = (28, 20))\n",
    "# sns.heatmap(corrmat, vmax = 0.8, center = 0, square = True, cmap = plt.cm.Reds)\n",
    "# plt.show()"
   ]
  },
  {
   "cell_type": "code",
   "execution_count": 7,
   "metadata": {},
   "outputs": [],
   "source": [
    "# same but in text\n",
    "# def histogram_intersection(a, b):\n",
    "#     v = np.minimum(a, b).sum().round(decimals=1)\n",
    "#     return v\n",
    "# df.corr(method = histogram_intersection)"
   ]
  },
  {
   "cell_type": "code",
   "execution_count": 8,
   "metadata": {},
   "outputs": [],
   "source": [
    "# barchart w/ correlations\n",
    "# plt.figure(figsize = (16,6))\n",
    "# corrmat['BBOWAC_YN'].sort_values(ascending = False).plot(kind = 'bar')  # update the col\n",
    "# plt.tight_layout()"
   ]
  },
  {
   "cell_type": "code",
   "execution_count": 9,
   "metadata": {},
   "outputs": [],
   "source": [
    "# Distributions of numeric features:\n",
    "# TAKES TIME TO RUN\n",
    "# Finding numeric features\n",
    "numeric_vars = df.select_dtypes(exclude = ['category', 'object'])\n",
    "# for c in numeric_vars.columns:\n",
    "#     sns.displot(df[c], fit = norm)\n",
    "#     fig = plt.figure()\n",
    "#     st.probplot(df[c], plot = plt)\n",
    "\n",
    "# TAKES TIME TO RUN\n",
    "# fig, axs = plt.subplots(ncols=2, nrows = 10, figsize=(12, 120))\n",
    "# plt.subplots_adjust(right=2)\n",
    "# plt.subplots_adjust(top=2)\n",
    "\n",
    "# for i in range(1, len(numeric_vars.columns)):\n",
    "#     feature = numeric_vars.columns[i]\n",
    "#     plt.subplot(len(numeric_vars.columns), 3, i)\n",
    "#     sns.scatterplot(x=feature, y='BBOWAC_YN', data=df)  # update y\n",
    "#     plt.xlabel('{}'.format(feature), size=15,labelpad=12.5)\n",
    "#     plt.ylabel('BBOWAC_YN', size=15, labelpad=12.5)  # update the name         \n",
    "# plt.show()\n",
    "\n",
    "# for c in numeric_vars:\n",
    "#     sns.displot(df, x = c, kind = \"kde\")"
   ]
  },
  {
   "cell_type": "code",
   "execution_count": 10,
   "metadata": {},
   "outputs": [],
   "source": [
    "# Checking cardinality of categorical variables\n",
    "# TAKES TIME TO RUN\n",
    "# categorical_vars = df.select_dtypes(include = 'category')\n",
    "# for c in categorical_vars.columns:\n",
    "#     df[c].value_counts(normalize = True).plot.barh()\n",
    "#     plt.title(label = c)\n",
    "#     plt.show()"
   ]
  },
  {
   "cell_type": "code",
   "execution_count": 11,
   "metadata": {},
   "outputs": [
    {
     "data": {
      "text/plain": [
       "<AxesSubplot:>"
      ]
     },
     "execution_count": 11,
     "metadata": {},
     "output_type": "execute_result"
    },
    {
     "data": {
      "image/png": "[encoded data removed]",
      "text/plain": [
       "<Figure size 432x288 with 1 Axes>"
      ]
     },
     "metadata": {
      "needs_background": "light"
     },
     "output_type": "display_data"
    }
   ],
   "source": [
    "# Will lump Unknown, 0, and Real Estate and call 'other' for VERTICAL\n",
    "# Will drop META_CATEG_NAME and CATEG_LVL2_NAME b/c they have too many distinct values \n",
    "vertical_mask = ['Unknown', 0, 'Real Estate']\n",
    "df['Vertical_new'] = df['VERTICAL'].apply(lambda x: 'other' if x in vertical_mask else x)\n",
    "df['Vertical_new'] = df['Vertical_new'].astype('category')\n",
    "df.drop(labels = ['META_CATEG_NAME', 'CATEG_LVL2_NAME','VERTICAL'], axis = 1, inplace = True)\n",
    "df['Vertical_new'].value_counts(normalize = True).plot.barh()"
   ]
  },
  {
   "cell_type": "code",
   "execution_count": 12,
   "metadata": {},
   "outputs": [
    {
     "data": {
      "text/plain": [
       "PLATFORM                                0\n",
       "asp_usd                                 0\n",
       "stp_yn                                  0\n",
       "map_yn                                  0\n",
       "mdm_yn                                  0\n",
       "                                       ..\n",
       "CATEG_BI_SHARE_IN_TTL_P1D_BEFORE_VI     0\n",
       "CATEG_GMB_SHARE_IN_TTL_P1D_BEFORE_VI    0\n",
       "BI_INVERSE_FREQUENCY_SCORE              0\n",
       "GMB_INVERSE_FREQUENCY_SCORE             0\n",
       "Vertical_new                            0\n",
       "Length: 87, dtype: int64"
      ]
     },
     "execution_count": 12,
     "metadata": {},
     "output_type": "execute_result"
    }
   ],
   "source": [
    "# checking NaNs once again\n",
    "df.isna().sum()"
   ]
  },
  {
   "cell_type": "markdown",
   "metadata": {},
   "source": [
    "## ML"
   ]
  },
  {
   "cell_type": "code",
   "execution_count": 15,
   "metadata": {},
   "outputs": [],
   "source": [
    "X, y = df.drop(['BBOWAC_YN'], axis = 1), df['BBOWAC_YN']"
   ]
  },
  {
   "cell_type": "code",
   "execution_count": 16,
   "metadata": {},
   "outputs": [],
   "source": [
    "# need to do it again, b/c X != df\n",
    "categorical_vars = X.select_dtypes(include = ['category', 'object'])\n",
    "numeric_vars = X.select_dtypes(exclude = ['category', 'object', 'int8'])"
   ]
  },
  {
   "cell_type": "code",
   "execution_count": 19,
   "metadata": {},
   "outputs": [],
   "source": [
    "# Pipelines\n",
    "def get_cat_cols(X):\n",
    "    return X[categorical_vars.columns]\n",
    "def get_num_cols(X):\n",
    "    return X[numeric_vars.columns]\n",
    "\n",
    "num_cols_pipeline = Pipeline([\n",
    "    ('get_num_cols', FunctionTransformer(get_num_cols, validate = False)),\n",
    "    ('min_max', MinMaxScaler())\n",
    "])\n",
    "cat_cols_pipeline = Pipeline([\n",
    "    ('get_cat_cols', FunctionTransformer(get_cat_cols, validate = False)),\n",
    "    ('onehot', FunctionTransformer(pd.get_dummies, validate = False))\n",
    "])\n",
    "steps_ = FeatureUnion([\n",
    "    ('num_cols', num_cols_pipeline),\n",
    "    ('cat_cols', cat_cols_pipeline)\n",
    "])\n",
    "full_pipeline = Pipeline([('steps_', steps_)])"
   ]
  },
  {
   "cell_type": "code",
   "execution_count": 21,
   "metadata": {},
   "outputs": [],
   "source": [
    "X_transformed = full_pipeline.fit_transform(X)\n",
    "X_train, X_test, y_train, y_test = train_test_split(X_transformed, y, random_state = 2, test_size = 0.25)"
   ]
  },
  {
   "cell_type": "code",
   "execution_count": 22,
   "metadata": {},
   "outputs": [
    {
     "data": {
      "text/plain": [
       "RandomForestClassifier(n_estimators=400)"
      ]
     },
     "execution_count": 22,
     "metadata": {},
     "output_type": "execute_result"
    }
   ],
   "source": [
    "# Train RandomForestClassifier()\n",
    "rf = RandomForestClassifier(n_estimators = 400)\n",
    "rf.fit(X_train, y_train)"
   ]
  },
  {
   "cell_type": "code",
   "execution_count": 23,
   "metadata": {},
   "outputs": [
    {
     "name": "stdout",
     "output_type": "stream",
     "text": [
      "score train: 0.9999999999999999\n",
      "score test: 1.0\n"
     ]
    }
   ],
   "source": [
    "# Score the model\n",
    "probs_train = rf.predict_proba(X_train)[:, 1]\n",
    "probs_test = rf.predict_proba(X_test)[:, 1]\n",
    "print(\"score train: {}\".format(roc_auc_score(y_train, probs_train)))\n",
    "print(\"score test: {}\".format(roc_auc_score(y_test, probs_test)))"
   ]
  },
  {
   "cell_type": "code",
   "execution_count": 26,
   "metadata": {},
   "outputs": [
    {
     "data": {
      "image/png": "[encoded data removed]",
      "text/plain": [
       "<Figure size 432x288 with 1 Axes>"
      ]
     },
     "metadata": {
      "needs_background": "light"
     },
     "output_type": "display_data"
    }
   ],
   "source": [
    "# ROC curve\n",
    "disp = plot_roc_curve(rf, X_test, y_test)"
   ]
  },
  {
   "cell_type": "code",
   "execution_count": null,
   "metadata": {},
   "outputs": [],
   "source": []
  },
  {
   "cell_type": "code",
   "execution_count": 34,
   "metadata": {},
   "outputs": [
    {
     "data": {
      "image/png": "[encoded data removed]",
      "text/plain": [
       "<Figure size 1152x576 with 1 Axes>"
      ]
     },
     "metadata": {
      "needs_background": "light"
     },
     "output_type": "display_data"
    }
   ],
   "source": [
    "# Feature importance\n",
    "# need to think how to properly get columns' names (because we applied get_dummies to them)\n",
    "plt.figure(figsize=(16,8))\n",
    "(pd.Series(rf.feature_importances_)\n",
    "   .nlargest(10)\n",
    "   .plot(kind='barh'))\n",
    "plt.show()"
   ]
  },
  {
   "cell_type": "code",
   "execution_count": 27,
   "metadata": {},
   "outputs": [],
   "source": [
    "# save the model\n",
    "pickle.dump(rf, open('9_24_rf_model', 'wb'))\n",
    "\n",
    "# if you want to load the model\n",
    "# rf = pickle.load(open('9_24_rf_model', 'rb'))"
   ]
  },
  {
   "cell_type": "markdown",
   "metadata": {},
   "source": [
    "## Charting"
   ]
  },
  {
   "cell_type": "code",
   "execution_count": 36,
   "metadata": {},
   "outputs": [
    {
     "data": {
      "image/png": "[encoded data removed]",
      "text/plain": [
       "<Figure size 432x288 with 1 Axes>"
      ]
     },
     "metadata": {
      "needs_background": "light"
     },
     "output_type": "display_data"
    }
   ],
   "source": [
    "# Create the boxplot\n",
    "f, ax = plt.subplots(figsize=(7, 6))\n",
    "ax.set_xscale(\"log\")\n",
    "ax = sns.boxplot(x = 'BBOWAC_YN', y = 'show_view_24hr_cnt', data = df)\n",
    "# Set the `xlim`\n",
    "# ax.set(xlim=(0, 100))\n",
    "# Show the plot\n",
    "plt.show()"
   ]
  },
  {
   "cell_type": "code",
   "execution_count": 37,
   "metadata": {},
   "outputs": [
    {
     "name": "stderr",
     "output_type": "stream",
     "text": [
      "/home/mkareev/.local/lib/python3.6/site-packages/seaborn/categorical.py:373: UserWarning: Attempted to set non-positive left xlim on a log-scaled axis.\n",
      "Invalid limit will be ignored.\n",
      "  ax.set_xlim(-.5, len(self.plot_data) - .5, auto=None)\n"
     ]
    },
    {
     "data": {
      "image/png": "[encoded data removed]",
      "text/plain": [
       "<Figure size 504x432 with 1 Axes>"
      ]
     },
     "metadata": {
      "needs_background": "light"
     },
     "output_type": "display_data"
    }
   ],
   "source": [
    "f, ax = plt.subplots(figsize=(7, 6))\n",
    "ax.set_xscale(\"log\")\n",
    "\n",
    "# Plot the orbital period with horizontal boxes\n",
    "sns.boxplot(x=\"show_view_24hr_cnt\", y=\"BBOWAC_YN\", data=df,\n",
    "            width=.6, palette=\"vlag\")\n",
    "\n",
    "# Add in points to show each observation\n",
    "# sns.stripplot(x=\"distance\", y=\"method\", data=planets,\n",
    "#               size=4, color=\".3\", linewidth=0)\n",
    "\n",
    "# Tweak the visual presentation\n",
    "ax.xaxis.grid(True)\n",
    "ax.set(ylabel=\"\")\n",
    "sns.despine(trim=True, left=True)"
   ]
  },
  {
   "cell_type": "code",
   "execution_count": null,
   "metadata": {},
   "outputs": [],
   "source": [
    "sns.catplot(data = df, y = 'BBOWAC_YN', x = 'show_view_24hr_cnt')"
   ]
  }
 ],
 "metadata": {
  "kernelspec": {
   "display_name": "Python 3",
   "language": "python",
   "name": "python3"
  },
  "language_info": {
   "codemirror_mode": {
    "name": "ipython",
    "version": 3
   },
   "file_extension": ".py",
   "mimetype": "text/x-python",
   "name": "python",
   "nbconvert_exporter": "python",
   "pygments_lexer": "ipython3",
   "version": "3.6.8"
  }
 },
 "nbformat": 4,
 "nbformat_minor": 4
}
